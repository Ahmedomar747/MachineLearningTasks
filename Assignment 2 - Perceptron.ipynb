{
 "cells": [
  {
   "cell_type": "code",
   "execution_count": 18,
   "metadata": {},
   "outputs": [],
   "source": [
    "import numpy as np\n",
    "from PIL import Image\n",
    "from matplotlib import pyplot as plt\n",
    "\n",
    "test = np.zeros((200,10))\n",
    "testres = np.zeros(200 , dtype=int)\n",
    "\n",
    "X = np.ones((2400,785))\n",
    "\n",
    "Y = np.ones((200,785))"
   ]
  },
  {
   "cell_type": "code",
   "execution_count": 19,
   "metadata": {},
   "outputs": [],
   "source": [
    "for i in range(0,2400) :\n",
    "    img2d = np.array(Image.open(\"Train/\"+str(i+1) + '.jpg'))\n",
    "    img1d = img2d.ravel()\n",
    "    X[i,:-1] = img1d\n",
    "\n",
    "for i in range(0,200) :\n",
    "    img2d = np.array(Image.open(\"Test/\"+str(i+1) + '.jpg'))\n",
    "    img1d = img2d.ravel()\n",
    "    Y[i,:-1] = img1d\n",
    "\n",
    "testing_label = np.loadtxt(\"Test/Test Labels.txt\" , dtype=int)\n",
    "\n",
    "T = np.zeros((10,2400))\n",
    "traing_label = np.loadtxt(\"Train/Training Labels.txt\")\n",
    "for i in range(0,10) :\n",
    "    for j in range(0,2400) :\n",
    "        if traing_label[j] == i : \n",
    "            T[i,j] = 1\n",
    "        else: \n",
    "            T[i,j] = -1\n"
   ]
  },
  {
   "cell_type": "code",
   "execution_count": 22,
   "metadata": {},
   "outputs": [
    {
     "name": "stdout",
     "output_type": "stream",
     "text": [
      "83.5\n",
      "83.0\n",
      "83.99999999999999\n",
      "83.5\n",
      "83.5\n",
      "86.49999999999999\n",
      "88.99999999999999\n",
      "76.50000000000001\n",
      "63.5\n",
      "55.00000000000001\n"
     ]
    }
   ],
   "source": [
    "for h in range(10) :    \n",
    "    nu = 10**-h\n",
    "    W = np.ones([10,785])\n",
    "    Wn = np.ones([10,785])\n",
    "    confusion_mat = np.zeros((10,10),dtype=int)\n",
    "    accuracy = 0.0;\n",
    "\n",
    "    for x in range(0,10) :\n",
    "        for t in range(500) :\n",
    "            SUM = 0\n",
    "            for i in range(0,2400) :\n",
    "                if (np.dot(X[i,:], W[x,:])* T[x,i]) <= 0:\n",
    "                    W[x,:] += nu * X[i,:] * T[x,i]\n",
    "                else :\n",
    "                    SUM += 1\n",
    "            if(SUM == 2400) :\n",
    "                break\n",
    "\n",
    "    test = W.dot(Y.transpose())\n",
    "    for j in range(0,200) :\n",
    "        testres[j] = np.argmax(test[:,j])\n",
    "\n",
    "    for i in range(0,200) :\n",
    "        confusion_mat[testres[i],testing_label[i]] += 1\n",
    "\n",
    "    for i in range(0,10) :\n",
    "        accuracy += confusion_mat[i,i] / 200\n",
    "    accuracy = accuracy * 100\n",
    "    print(accuracy)\n",
    "    plt.imsave(\"Confusion-\"+str(h)+\".jpg\",confusion_mat,cmap=\"gray\") "
   ]
  },
  {
   "cell_type": "code",
   "execution_count": 16,
   "metadata": {},
   "outputs": [
    {
     "name": "stdout",
     "output_type": "stream",
     "text": [
      "1\n",
      "0.1\n",
      "0.01\n",
      "0.001\n",
      "0.0001\n",
      "1e-05\n",
      "1e-06\n",
      "1e-07\n",
      "1e-08\n",
      "1e-09\n"
     ]
    }
   ],
   "source": [
    "for h in range(10) : \n",
    "    print(10**-h)"
   ]
  },
  {
   "cell_type": "code",
   "execution_count": null,
   "metadata": {},
   "outputs": [],
   "source": []
  }
 ],
 "metadata": {
  "kernelspec": {
   "display_name": "Python 3",
   "language": "python",
   "name": "python3"
  },
  "language_info": {
   "codemirror_mode": {
    "name": "ipython",
    "version": 3
   },
   "file_extension": ".py",
   "mimetype": "text/x-python",
   "name": "python",
   "nbconvert_exporter": "python",
   "pygments_lexer": "ipython3",
   "version": "3.7.3"
  }
 },
 "nbformat": 4,
 "nbformat_minor": 2
}
