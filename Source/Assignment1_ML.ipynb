{
 "cells": [
  {
   "cell_type": "code",
   "execution_count": 11,
   "metadata": {},
   "outputs": [],
   "source": [
    "import numpy as np\n",
    "from PIL import Image\n",
    "\n",
    "X = np.ones((2400,785))\n",
    "\n",
    "for i in range(0,2400) :\n",
    "    img2d = np.array(Image.open(\"Train/\"+str(i+1) + '.jpg'))\n",
    "    img1d = img2d.ravel()\n",
    "    X[i,:-1] = img1d\n",
    "\n"
   ]
  },
  {
   "cell_type": "code",
   "execution_count": 12,
   "metadata": {},
   "outputs": [],
   "source": [
    "Y_target = np.loadtxt(\"Test/Test Labels.txt\" , dtype=int)\n",
    "target = np.zeros((10,2400))\n",
    "target_inText = np.loadtxt(\"Train/Training Labels.txt\")\n",
    "for i in range(0,10) :\n",
    "    for j in range(0,2400) :\n",
    "        if target_inText[j] == i : \n",
    "            target[i,j] = 1\n",
    "        else: \n",
    "            target[i,j] = -1"
   ]
  },
  {
   "cell_type": "code",
   "execution_count": 13,
   "metadata": {},
   "outputs": [],
   "source": [
    "Xtranspose = np.transpose(X)\n",
    "XTXinvs = np.linalg.pinv(Xtranspose.dot(X))\n",
    "XDash = XTXinvs.dot(Xtranspose)\n",
    "#XDash = np.transpose(XDash)"
   ]
  },
  {
   "cell_type": "code",
   "execution_count": 14,
   "metadata": {},
   "outputs": [],
   "source": [
    "W = np.zeros((785,10))\n",
    "for i in range(0,10) :\n",
    "    W[:,i] = XDash.dot(target[i,:])"
   ]
  },
  {
   "cell_type": "code",
   "execution_count": 15,
   "metadata": {},
   "outputs": [],
   "source": [
    "Y = np.ones((200,785))\n",
    "for i in range(0,200) :\n",
    "    img2d = np.array(Image.open(\"Test/\"+str(i+1) + '.jpg'))\n",
    "    img1d = img2d.ravel()\n",
    "    Y[i,:-1] = img1d"
   ]
  },
  {
   "cell_type": "code",
   "execution_count": 16,
   "metadata": {},
   "outputs": [],
   "source": [
    "test = np.zeros((200,10))\n",
    "testres = np.zeros(200 , dtype=int)\n",
    "for i in range(0,10) :\n",
    "    for j in range(0,200) :\n",
    "        test[j,i] = W[:,i].dot(Y[j,:])\n"
   ]
  },
  {
   "cell_type": "code",
   "execution_count": 17,
   "metadata": {},
   "outputs": [],
   "source": [
    "for i in range(0,10) :\n",
    "    for j in range(0,200) :\n",
    "        testres[j] = np.argmax(test[j,:])"
   ]
  },
  {
   "cell_type": "code",
   "execution_count": 18,
   "metadata": {},
   "outputs": [
    {
     "data": {
      "text/plain": [
       "array([[19,  0,  1,  0,  0,  0,  0,  0,  0,  1],\n",
       "       [ 0, 20,  3,  0,  0,  0,  0,  0,  0,  0],\n",
       "       [ 0,  0, 11,  0,  0,  0,  0,  1,  1,  0],\n",
       "       [ 0,  0,  2, 17,  0,  1,  0,  1,  0,  1],\n",
       "       [ 0,  0,  2,  0, 17,  0,  0,  0,  0,  1],\n",
       "       [ 0,  0,  1,  1,  1, 14,  0,  0,  3,  1],\n",
       "       [ 1,  0,  0,  0,  0,  1, 20,  0,  0,  0],\n",
       "       [ 0,  0,  0,  0,  1,  0,  0, 15,  0,  4],\n",
       "       [ 0,  0,  0,  2,  0,  2,  0,  0, 15,  0],\n",
       "       [ 0,  0,  0,  0,  1,  2,  0,  3,  1, 12]])"
      ]
     },
     "execution_count": 18,
     "metadata": {},
     "output_type": "execute_result"
    }
   ],
   "source": [
    "confusion_mat = np.zeros((10,10),dtype=int)\n",
    "for i in range(0,200) :\n",
    "    confusion_mat[testres[i],Y_target[i]] += 1\n",
    "confusion_mat"
   ]
  },
  {
   "cell_type": "code",
   "execution_count": 10,
   "metadata": {},
   "outputs": [
    {
     "data": {
      "text/plain": [
       "80.0"
      ]
     },
     "execution_count": 10,
     "metadata": {},
     "output_type": "execute_result"
    }
   ],
   "source": [
    "accuracy = 0.0;\n",
    "for i in range(0,10) :\n",
    "    accuracy += confusion_mat[i,i] / 200\n",
    "accuracy = accuracy * 100\n",
    "accuracy"
   ]
  },
  {
   "cell_type": "code",
   "execution_count": null,
   "metadata": {},
   "outputs": [],
   "source": []
  }
 ],
 "metadata": {
  "kernelspec": {
   "display_name": "Python 3",
   "language": "python",
   "name": "python3"
  },
  "language_info": {
   "codemirror_mode": {
    "name": "ipython",
    "version": 3
   },
   "file_extension": ".py",
   "mimetype": "text/x-python",
   "name": "python",
   "nbconvert_exporter": "python",
   "pygments_lexer": "ipython3",
   "version": "3.7.3"
  }
 },
 "nbformat": 4,
 "nbformat_minor": 2
}
