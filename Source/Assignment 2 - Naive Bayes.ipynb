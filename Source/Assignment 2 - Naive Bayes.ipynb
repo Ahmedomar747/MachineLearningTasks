{
 "cells": [
  {
   "cell_type": "code",
   "execution_count": 425,
   "metadata": {},
   "outputs": [],
   "source": [
    "import numpy as np\n",
    "from math import e, sqrt, pi\n",
    "from PIL import Image\n",
    "from decimal import Decimal\n",
    "from matplotlib import pyplot as plt\n",
    "\n",
    "test = np.zeros((200,10))\n",
    "testres = np.zeros(200 , dtype=int)\n",
    "\n",
    "X = np.ones((2400,784))\n",
    "\n",
    "Xi = np.ones((200,784))\n",
    "\n",
    "for i in range(0,2400) :\n",
    "    img2d = np.array(Image.open(\"Train/\"+str(i+1) + '.jpg'))\n",
    "    img1d = img2d.ravel()\n",
    "    X[i,:] = img1d\n",
    "\n",
    "for i in range(0,200) :\n",
    "    img2d = np.array(Image.open(\"Test/\"+str(i+1) + '.jpg'))\n",
    "    img1d = img2d.ravel()\n",
    "    Test_X[i,:] = img1d\n",
    "    \n",
    "X = X / 255\n",
    "Xi = Test_X /255\n",
    "\n",
    "T = np.loadtxt(\"Train/Training Labels.txt\", dtype=int)\n",
    "Ti = np.loadtxt(\"Test/Test Labels.txt\" , dtype=int)\n",
    "\n",
    "\n",
    "\n"
   ]
  },
  {
   "cell_type": "code",
   "execution_count": 411,
   "metadata": {},
   "outputs": [],
   "source": [
    "def mean(X):\n",
    "    return sum(X)/float(len(X))\n",
    " "
   ]
  },
  {
   "cell_type": "code",
   "execution_count": 412,
   "metadata": {},
   "outputs": [],
   "source": [
    "def stdev(X):\n",
    "    mu = mean(X)\n",
    "    variance = sum([(i-mu)**2 for i in X]) / float(len(X)-1)\n",
    "    if (variance <= 0.01):\n",
    "        variance = 0.01\n",
    "    return np.sqrt(variance)"
   ]
  },
  {
   "cell_type": "code",
   "execution_count": 413,
   "metadata": {},
   "outputs": [],
   "source": [
    "def Class_X(X,T):\n",
    "    classes_X = np.ones((10,240,784))\n",
    "    for n in range(10) :\n",
    "        l = 0\n",
    "        for i in range(X[:,0].size):\n",
    "            if(T[i] == n) :\n",
    "                classes_X[n,l,:] = X[i,:]\n",
    "                l += 1\n",
    "    return classes_X"
   ]
  },
  {
   "cell_type": "code",
   "execution_count": 414,
   "metadata": {},
   "outputs": [],
   "source": [
    "def calculate_probability(x, mu, std):\n",
    "    return (1 / (sqrt(2 * pi) * std)) * (math.exp(-((x-mu)**2 / (2 * std**2 ))))"
   ]
  },
  {
   "cell_type": "code",
   "execution_count": 415,
   "metadata": {},
   "outputs": [
    {
     "name": "stderr",
     "output_type": "stream",
     "text": [
      "/Users/ahmedomar/anaconda3/lib/python3.7/site-packages/ipykernel_launcher.py:21: RuntimeWarning: overflow encountered in double_scalars\n"
     ]
    }
   ],
   "source": [
    "P = np.ones([10,1])\n",
    "for i in range(10) :\n",
    "    P[i] = np.size(T[T==i])/np.size(T)\n",
    "\n",
    "X_c = Class_X(X,T)\n",
    "mu = np.zeros((10,784))\n",
    "std = np.zeros((10,784))\n",
    "P_Xi = np.zeros((10,200))\n",
    "\n",
    "for i in range(10) :\n",
    "    for j in range(784) :\n",
    "        mu[i,j] = mean(X_c[i,:,j])\n",
    "        std[i,j] = stdev(X_c[i,:,j])\n",
    "\n",
    "px = np.ones(10)\n",
    "result = np.zeros(200)\n",
    "for x in range(200) :\n",
    "    for i in range(10) :\n",
    "        px[i] = 1\n",
    "        for j in range(784) :\n",
    "            px[i] *= calculate_probability(Xi[x,j],mu[i,j],std[i,j])\n",
    "        px[i] *= P[i]\n",
    "    result[x] = np.argmax(px)"
   ]
  },
  {
   "cell_type": "code",
   "execution_count": 416,
   "metadata": {},
   "outputs": [
    {
     "name": "stdout",
     "output_type": "stream",
     "text": [
      "[[18  0  0  0  0  0  0  0  1  1]\n",
      " [ 0 20  0  0  0  0  0  0  0  0]\n",
      " [ 0  0 16  0  0  0  0  0  0  0]\n",
      " [ 0  0  0 17  0  0  0  0  0  1]\n",
      " [ 0  0  0  0 12  2  0  3  0  3]\n",
      " [ 0  0  1  1  0 14  0  0  0  0]\n",
      " [ 1  0  1  0  3  0 19  0  0  0]\n",
      " [ 0  0  0  0  0  0  0 12  0  1]\n",
      " [ 1  0  1  2  1  3  1  0 18  1]\n",
      " [ 0  0  1  0  4  1  0  5  1 13]]\n",
      "79.50000000000001\n"
     ]
    }
   ],
   "source": [
    "\n",
    "fresult = result.astype(int)\n",
    "\n",
    "confusion_mat = np.zeros((10,10),dtype=int)\n",
    "accuracy = 0.0;\n",
    "\n",
    "for i in range(0,200) :\n",
    "    confusion_mat[fresult[i],Ti[i]] += 1\n",
    "\n",
    "for i in range(0,10) :\n",
    "    accuracy += confusion_mat[i,i] / 200\n",
    "accuracy = accuracy * 100\n",
    "print(confusion_mat)\n",
    "print(accuracy)\n",
    "\n"
   ]
  },
  {
   "cell_type": "code",
   "execution_count": 427,
   "metadata": {},
   "outputs": [
    {
     "data": {
      "image/png": "[encoded data removed]",
      "text/plain": [
       "<Figure size 432x288 with 1 Axes>"
      ]
     },
     "metadata": {
      "needs_background": "light"
     },
     "output_type": "display_data"
    }
   ],
   "source": [
    "plt.imshow(confusion_mat)\n",
    "plt.imsave(\"Confusion-Gauss.jpg\",confusion_mat,cmap=\"gray\")"
   ]
  },
  {
   "cell_type": "code",
   "execution_count": null,
   "metadata": {},
   "outputs": [],
   "source": []
  }
 ],
 "metadata": {
  "kernelspec": {
   "display_name": "Python 3",
   "language": "python",
   "name": "python3"
  },
  "language_info": {
   "codemirror_mode": {
    "name": "ipython",
    "version": 3
   },
   "file_extension": ".py",
   "mimetype": "text/x-python",
   "name": "python",
   "nbconvert_exporter": "python",
   "pygments_lexer": "ipython3",
   "version": "3.7.3"
  }
 },
 "nbformat": 4,
 "nbformat_minor": 2
}
