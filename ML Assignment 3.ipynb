{
 "cells": [
  {
   "cell_type": "code",
   "execution_count": 150,
   "metadata": {},
   "outputs": [],
   "source": [
    "import numpy as np\n",
    "from PIL import Image\n",
    "from matplotlib import pyplot as plt\n",
    "import math\n",
    "from random import randint\n",
    "\n",
    "X = np.ones((2400,785))\n",
    "\n",
    "for i in range(0,2400) :\n",
    "    img2d = np.array(Image.open(\"Images/\"+str(i+1) + '.jpg'))\n",
    "    img1d = img2d.ravel()\n",
    "    X[i,:-1] = img1d\n",
    "\n",
    "\n",
    "X[X < 140] = 0\n",
    "X[X >= 140] = 1   \n",
    "\n",
    "\n",
    "T = np.loadtxt(\"Images/Training Labels.txt\", dtype=int)\n"
   ]
  },
  {
   "cell_type": "code",
   "execution_count": 206,
   "metadata": {},
   "outputs": [],
   "source": [
    "def calcCluster(X,centeriod) :\n",
    "    cluster = np.zeros([2400])\n",
    "    for i in range(2400) :\n",
    "        arr = np.zeros(10)\n",
    "        for n in range(10) :\n",
    "            arr[n] = np.linalg.norm(X[i]-centeriod[n])\n",
    "        cluster[i] = np.argmin(arr)\n",
    "    return cluster\n",
    "        "
   ]
  },
  {
   "cell_type": "code",
   "execution_count": 207,
   "metadata": {},
   "outputs": [],
   "source": [
    "def initialize(X) :\n",
    "    tempX = X.copy()\n",
    "    centeriod = np.zeros([10,785])\n",
    "\n",
    "    randomcenter = randint(0,2400)\n",
    "    centeriod[0] = tempX[randomcenter]\n",
    "    tempX = np.delete(tempX,randomcenter,0)\n",
    "\n",
    "\n",
    "    for i in range(1,10) :\n",
    "        MaxDistArg = np.argmax(np.linalg.norm(tempX-centeriod[i],axis=0))\n",
    "        centeriod[i,:]  = tempX[MaxDistArg]\n",
    "        tempX = np.delete(tempX,MaxDistArg,0)\n",
    "    return centeriod"
   ]
  },
  {
   "cell_type": "code",
   "execution_count": 208,
   "metadata": {},
   "outputs": [],
   "source": [
    "def calcMeans(X,Cluster) :\n",
    "    for n in range(10) :\n",
    "         c[n] = np.mean(X[Cluster == n],axis=0)\n",
    "    return c"
   ]
  },
  {
   "cell_type": "code",
   "execution_count": 216,
   "metadata": {},
   "outputs": [],
   "source": [
    "def MaxDunn(clust) :\n",
    "    score = np.zeros(10)\n",
    "    for n in range(10) :\n",
    "        temp = clust[n*240:(n+1)*240]\n",
    "        elements, count = np.unique(temp, return_counts=True)\n",
    "        score[n] = np.max(count)\n",
    "    return score"
   ]
  },
  {
   "cell_type": "code",
   "execution_count": 239,
   "metadata": {},
   "outputs": [],
   "source": [
    "def score(arr) :\n",
    "    score = 0\n",
    "    for i in range(arr.shape[0]) :\n",
    "        score += (240 - arr[i]) ** 2\n",
    "    score = math.sqrt(score)\n",
    "    return score"
   ]
  },
  {
   "cell_type": "code",
   "execution_count": 240,
   "metadata": {},
   "outputs": [
    {
     "name": "stdout",
     "output_type": "stream",
     "text": [
      "converge\n",
      "converge\n",
      "converge\n",
      "converge\n",
      "converge\n",
      "converge\n",
      "converge\n",
      "converge\n",
      "converge\n",
      "converge\n",
      "converge\n",
      "converge\n",
      "converge\n",
      "converge\n",
      "converge\n",
      "converge\n",
      "converge\n",
      "converge\n",
      "converge\n",
      "converge\n",
      "converge\n",
      "converge\n",
      "converge\n",
      "converge\n",
      "converge\n",
      "converge\n",
      "converge\n",
      "converge\n",
      "converge\n",
      "converge\n"
     ]
    }
   ],
   "source": [
    "S = 1000\n",
    "best_iteration = 0\n",
    "\n",
    "for i in range(30) :\n",
    "    c = initialize(X)\n",
    "    clust = AssignCluster(X,c)\n",
    "    while True :\n",
    "        c = calcMeans(X,clust)\n",
    "        new_clust = calcCluster(X,c)\n",
    "        if(np.array_equal(clust,new_clust)) :\n",
    "            break\n",
    "        else :\n",
    "            clust = new_clust\n",
    "    new_score = score(MaxDunn(clust))\n",
    "    if new_score < S :\n",
    "        S = new_score\n",
    "        best_iteration = i\n",
    "        "
   ]
  },
  {
   "cell_type": "code",
   "execution_count": 241,
   "metadata": {},
   "outputs": [
    {
     "name": "stdout",
     "output_type": "stream",
     "text": [
      "306.54363474063524\n",
      "21\n"
     ]
    }
   ],
   "source": [
    "print(S)\n",
    "print(best_iteration)"
   ]
  },
  {
   "cell_type": "code",
   "execution_count": null,
   "metadata": {},
   "outputs": [],
   "source": []
  }
 ],
 "metadata": {
  "kernelspec": {
   "display_name": "Python 3",
   "language": "python",
   "name": "python3"
  },
  "language_info": {
   "codemirror_mode": {
    "name": "ipython",
    "version": 3
   },
   "file_extension": ".py",
   "mimetype": "text/x-python",
   "name": "python",
   "nbconvert_exporter": "python",
   "pygments_lexer": "ipython3",
   "version": "3.7.3"
  }
 },
 "nbformat": 4,
 "nbformat_minor": 2
}
